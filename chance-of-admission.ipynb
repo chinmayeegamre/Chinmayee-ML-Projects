{
 "cells": [
  {
   "cell_type": "markdown",
   "id": "12757a9f",
   "metadata": {
    "papermill": {
     "duration": 0.004992,
     "end_time": "2023-07-05T21:07:31.238711",
     "exception": false,
     "start_time": "2023-07-05T21:07:31.233719",
     "status": "completed"
    },
    "tags": []
   },
   "source": [
    "CHANVE OF ADMISSION FOR HIGHER Chance of Admission for Higher Studies\n",
    "\n",
    "Predict the chances of admission of a student to a Graduate program based on:\n",
    "\n",
    "GRE Scores (290 to 340)\n",
    "\n",
    "TOEFL Scores (92 to 120)\n",
    "\n",
    "University Rating (1 to 5)\n",
    "\n",
    "Statement of Purpose (1 to 5)\n",
    "\n",
    "Letter of Recommendation Strength (1 to 5)\n",
    "\n",
    "Undergraduate CGPA (6.8 to 9.92)\n",
    "\n",
    "Research Experience (0 or 1)\n",
    "Chance of Admit (0.34 to 0.97)"
   ]
  },
  {
   "cell_type": "code",
   "execution_count": 1,
   "id": "0deaf248",
   "metadata": {
    "execution": {
     "iopub.execute_input": "2023-07-05T21:07:31.249277Z",
     "iopub.status.busy": "2023-07-05T21:07:31.248883Z",
     "iopub.status.idle": "2023-07-05T21:07:31.258523Z",
     "shell.execute_reply": "2023-07-05T21:07:31.257500Z"
    },
    "papermill": {
     "duration": 0.01787,
     "end_time": "2023-07-05T21:07:31.260891",
     "exception": false,
     "start_time": "2023-07-05T21:07:31.243021",
     "status": "completed"
    },
    "tags": []
   },
   "outputs": [],
   "source": [
    "#import library\n",
    "import pandas as pd"
   ]
  },
  {
   "cell_type": "code",
   "execution_count": 2,
   "id": "eadca529",
   "metadata": {
    "execution": {
     "iopub.execute_input": "2023-07-05T21:07:31.271718Z",
     "iopub.status.busy": "2023-07-05T21:07:31.271193Z",
     "iopub.status.idle": "2023-07-05T21:07:31.540205Z",
     "shell.execute_reply": "2023-07-05T21:07:31.538706Z"
    },
    "papermill": {
     "duration": 0.27698,
     "end_time": "2023-07-05T21:07:31.542480",
     "exception": false,
     "start_time": "2023-07-05T21:07:31.265500",
     "status": "completed"
    },
    "tags": []
   },
   "outputs": [],
   "source": [
    "#import data set\n",
    "chance_admission=pd.read_csv('https://github.com/YBI-Foundation/Dataset/raw/main/Admission%20Chance.csv')"
   ]
  },
  {
   "cell_type": "code",
   "execution_count": 3,
   "id": "2f642288",
   "metadata": {
    "execution": {
     "iopub.execute_input": "2023-07-05T21:07:31.556074Z",
     "iopub.status.busy": "2023-07-05T21:07:31.554989Z",
     "iopub.status.idle": "2023-07-05T21:07:31.586771Z",
     "shell.execute_reply": "2023-07-05T21:07:31.585677Z"
    },
    "papermill": {
     "duration": 0.040896,
     "end_time": "2023-07-05T21:07:31.588874",
     "exception": false,
     "start_time": "2023-07-05T21:07:31.547978",
     "status": "completed"
    },
    "tags": []
   },
   "outputs": [
    {
     "data": {
      "text/html": [
       "<div>\n",
       "<style scoped>\n",
       "    .dataframe tbody tr th:only-of-type {\n",
       "        vertical-align: middle;\n",
       "    }\n",
       "\n",
       "    .dataframe tbody tr th {\n",
       "        vertical-align: top;\n",
       "    }\n",
       "\n",
       "    .dataframe thead th {\n",
       "        text-align: right;\n",
       "    }\n",
       "</style>\n",
       "<table border=\"1\" class=\"dataframe\">\n",
       "  <thead>\n",
       "    <tr style=\"text-align: right;\">\n",
       "      <th></th>\n",
       "      <th>Serial No</th>\n",
       "      <th>GRE Score</th>\n",
       "      <th>TOEFL Score</th>\n",
       "      <th>University Rating</th>\n",
       "      <th>SOP</th>\n",
       "      <th>LOR</th>\n",
       "      <th>CGPA</th>\n",
       "      <th>Research</th>\n",
       "      <th>Chance of Admit</th>\n",
       "    </tr>\n",
       "  </thead>\n",
       "  <tbody>\n",
       "    <tr>\n",
       "      <th>0</th>\n",
       "      <td>1</td>\n",
       "      <td>337</td>\n",
       "      <td>118</td>\n",
       "      <td>4</td>\n",
       "      <td>4.5</td>\n",
       "      <td>4.5</td>\n",
       "      <td>9.65</td>\n",
       "      <td>1</td>\n",
       "      <td>0.92</td>\n",
       "    </tr>\n",
       "    <tr>\n",
       "      <th>1</th>\n",
       "      <td>2</td>\n",
       "      <td>324</td>\n",
       "      <td>107</td>\n",
       "      <td>4</td>\n",
       "      <td>4.0</td>\n",
       "      <td>4.5</td>\n",
       "      <td>8.87</td>\n",
       "      <td>1</td>\n",
       "      <td>0.76</td>\n",
       "    </tr>\n",
       "    <tr>\n",
       "      <th>2</th>\n",
       "      <td>3</td>\n",
       "      <td>316</td>\n",
       "      <td>104</td>\n",
       "      <td>3</td>\n",
       "      <td>3.0</td>\n",
       "      <td>3.5</td>\n",
       "      <td>8.00</td>\n",
       "      <td>1</td>\n",
       "      <td>0.72</td>\n",
       "    </tr>\n",
       "    <tr>\n",
       "      <th>3</th>\n",
       "      <td>4</td>\n",
       "      <td>322</td>\n",
       "      <td>110</td>\n",
       "      <td>3</td>\n",
       "      <td>3.5</td>\n",
       "      <td>2.5</td>\n",
       "      <td>8.67</td>\n",
       "      <td>1</td>\n",
       "      <td>0.80</td>\n",
       "    </tr>\n",
       "    <tr>\n",
       "      <th>4</th>\n",
       "      <td>5</td>\n",
       "      <td>314</td>\n",
       "      <td>103</td>\n",
       "      <td>2</td>\n",
       "      <td>2.0</td>\n",
       "      <td>3.0</td>\n",
       "      <td>8.21</td>\n",
       "      <td>0</td>\n",
       "      <td>0.65</td>\n",
       "    </tr>\n",
       "  </tbody>\n",
       "</table>\n",
       "</div>"
      ],
      "text/plain": [
       "   Serial No  GRE Score  TOEFL Score  University Rating   SOP  LOR   CGPA  \\\n",
       "0          1        337          118                  4   4.5   4.5  9.65   \n",
       "1          2        324          107                  4   4.0   4.5  8.87   \n",
       "2          3        316          104                  3   3.0   3.5  8.00   \n",
       "3          4        322          110                  3   3.5   2.5  8.67   \n",
       "4          5        314          103                  2   2.0   3.0  8.21   \n",
       "\n",
       "   Research  Chance of Admit   \n",
       "0         1              0.92  \n",
       "1         1              0.76  \n",
       "2         1              0.72  \n",
       "3         1              0.80  \n",
       "4         0              0.65  "
      ]
     },
     "execution_count": 3,
     "metadata": {},
     "output_type": "execute_result"
    }
   ],
   "source": [
    "chance_admission.head()"
   ]
  },
  {
   "cell_type": "code",
   "execution_count": 4,
   "id": "a1fc1536",
   "metadata": {
    "execution": {
     "iopub.execute_input": "2023-07-05T21:07:31.599286Z",
     "iopub.status.busy": "2023-07-05T21:07:31.598991Z",
     "iopub.status.idle": "2023-07-05T21:07:31.622205Z",
     "shell.execute_reply": "2023-07-05T21:07:31.620744Z"
    },
    "papermill": {
     "duration": 0.030961,
     "end_time": "2023-07-05T21:07:31.624691",
     "exception": false,
     "start_time": "2023-07-05T21:07:31.593730",
     "status": "completed"
    },
    "tags": []
   },
   "outputs": [
    {
     "name": "stdout",
     "output_type": "stream",
     "text": [
      "<class 'pandas.core.frame.DataFrame'>\n",
      "RangeIndex: 400 entries, 0 to 399\n",
      "Data columns (total 9 columns):\n",
      " #   Column             Non-Null Count  Dtype  \n",
      "---  ------             --------------  -----  \n",
      " 0   Serial No          400 non-null    int64  \n",
      " 1   GRE Score          400 non-null    int64  \n",
      " 2   TOEFL Score        400 non-null    int64  \n",
      " 3   University Rating  400 non-null    int64  \n",
      " 4    SOP               400 non-null    float64\n",
      " 5   LOR                400 non-null    float64\n",
      " 6   CGPA               400 non-null    float64\n",
      " 7   Research           400 non-null    int64  \n",
      " 8   Chance of Admit    400 non-null    float64\n",
      "dtypes: float64(4), int64(5)\n",
      "memory usage: 28.2 KB\n"
     ]
    }
   ],
   "source": [
    "chance_admission.info()"
   ]
  },
  {
   "cell_type": "code",
   "execution_count": 5,
   "id": "84c43e0a",
   "metadata": {
    "execution": {
     "iopub.execute_input": "2023-07-05T21:07:31.639174Z",
     "iopub.status.busy": "2023-07-05T21:07:31.638292Z",
     "iopub.status.idle": "2023-07-05T21:07:31.675118Z",
     "shell.execute_reply": "2023-07-05T21:07:31.674182Z"
    },
    "papermill": {
     "duration": 0.046583,
     "end_time": "2023-07-05T21:07:31.677156",
     "exception": false,
     "start_time": "2023-07-05T21:07:31.630573",
     "status": "completed"
    },
    "tags": []
   },
   "outputs": [
    {
     "data": {
      "text/html": [
       "<div>\n",
       "<style scoped>\n",
       "    .dataframe tbody tr th:only-of-type {\n",
       "        vertical-align: middle;\n",
       "    }\n",
       "\n",
       "    .dataframe tbody tr th {\n",
       "        vertical-align: top;\n",
       "    }\n",
       "\n",
       "    .dataframe thead th {\n",
       "        text-align: right;\n",
       "    }\n",
       "</style>\n",
       "<table border=\"1\" class=\"dataframe\">\n",
       "  <thead>\n",
       "    <tr style=\"text-align: right;\">\n",
       "      <th></th>\n",
       "      <th>Serial No</th>\n",
       "      <th>GRE Score</th>\n",
       "      <th>TOEFL Score</th>\n",
       "      <th>University Rating</th>\n",
       "      <th>SOP</th>\n",
       "      <th>LOR</th>\n",
       "      <th>CGPA</th>\n",
       "      <th>Research</th>\n",
       "      <th>Chance of Admit</th>\n",
       "    </tr>\n",
       "  </thead>\n",
       "  <tbody>\n",
       "    <tr>\n",
       "      <th>count</th>\n",
       "      <td>400.000000</td>\n",
       "      <td>400.000000</td>\n",
       "      <td>400.000000</td>\n",
       "      <td>400.000000</td>\n",
       "      <td>400.000000</td>\n",
       "      <td>400.000000</td>\n",
       "      <td>400.000000</td>\n",
       "      <td>400.000000</td>\n",
       "      <td>400.000000</td>\n",
       "    </tr>\n",
       "    <tr>\n",
       "      <th>mean</th>\n",
       "      <td>200.500000</td>\n",
       "      <td>316.807500</td>\n",
       "      <td>107.410000</td>\n",
       "      <td>3.087500</td>\n",
       "      <td>3.400000</td>\n",
       "      <td>3.452500</td>\n",
       "      <td>8.598925</td>\n",
       "      <td>0.547500</td>\n",
       "      <td>0.724350</td>\n",
       "    </tr>\n",
       "    <tr>\n",
       "      <th>std</th>\n",
       "      <td>115.614301</td>\n",
       "      <td>11.473646</td>\n",
       "      <td>6.069514</td>\n",
       "      <td>1.143728</td>\n",
       "      <td>1.006869</td>\n",
       "      <td>0.898478</td>\n",
       "      <td>0.596317</td>\n",
       "      <td>0.498362</td>\n",
       "      <td>0.142609</td>\n",
       "    </tr>\n",
       "    <tr>\n",
       "      <th>min</th>\n",
       "      <td>1.000000</td>\n",
       "      <td>290.000000</td>\n",
       "      <td>92.000000</td>\n",
       "      <td>1.000000</td>\n",
       "      <td>1.000000</td>\n",
       "      <td>1.000000</td>\n",
       "      <td>6.800000</td>\n",
       "      <td>0.000000</td>\n",
       "      <td>0.340000</td>\n",
       "    </tr>\n",
       "    <tr>\n",
       "      <th>25%</th>\n",
       "      <td>100.750000</td>\n",
       "      <td>308.000000</td>\n",
       "      <td>103.000000</td>\n",
       "      <td>2.000000</td>\n",
       "      <td>2.500000</td>\n",
       "      <td>3.000000</td>\n",
       "      <td>8.170000</td>\n",
       "      <td>0.000000</td>\n",
       "      <td>0.640000</td>\n",
       "    </tr>\n",
       "    <tr>\n",
       "      <th>50%</th>\n",
       "      <td>200.500000</td>\n",
       "      <td>317.000000</td>\n",
       "      <td>107.000000</td>\n",
       "      <td>3.000000</td>\n",
       "      <td>3.500000</td>\n",
       "      <td>3.500000</td>\n",
       "      <td>8.610000</td>\n",
       "      <td>1.000000</td>\n",
       "      <td>0.730000</td>\n",
       "    </tr>\n",
       "    <tr>\n",
       "      <th>75%</th>\n",
       "      <td>300.250000</td>\n",
       "      <td>325.000000</td>\n",
       "      <td>112.000000</td>\n",
       "      <td>4.000000</td>\n",
       "      <td>4.000000</td>\n",
       "      <td>4.000000</td>\n",
       "      <td>9.062500</td>\n",
       "      <td>1.000000</td>\n",
       "      <td>0.830000</td>\n",
       "    </tr>\n",
       "    <tr>\n",
       "      <th>max</th>\n",
       "      <td>400.000000</td>\n",
       "      <td>340.000000</td>\n",
       "      <td>120.000000</td>\n",
       "      <td>5.000000</td>\n",
       "      <td>5.000000</td>\n",
       "      <td>5.000000</td>\n",
       "      <td>9.920000</td>\n",
       "      <td>1.000000</td>\n",
       "      <td>0.970000</td>\n",
       "    </tr>\n",
       "  </tbody>\n",
       "</table>\n",
       "</div>"
      ],
      "text/plain": [
       "        Serial No   GRE Score  TOEFL Score  University Rating         SOP  \\\n",
       "count  400.000000  400.000000   400.000000         400.000000  400.000000   \n",
       "mean   200.500000  316.807500   107.410000           3.087500    3.400000   \n",
       "std    115.614301   11.473646     6.069514           1.143728    1.006869   \n",
       "min      1.000000  290.000000    92.000000           1.000000    1.000000   \n",
       "25%    100.750000  308.000000   103.000000           2.000000    2.500000   \n",
       "50%    200.500000  317.000000   107.000000           3.000000    3.500000   \n",
       "75%    300.250000  325.000000   112.000000           4.000000    4.000000   \n",
       "max    400.000000  340.000000   120.000000           5.000000    5.000000   \n",
       "\n",
       "             LOR         CGPA    Research  Chance of Admit   \n",
       "count  400.000000  400.000000  400.000000        400.000000  \n",
       "mean     3.452500    8.598925    0.547500          0.724350  \n",
       "std      0.898478    0.596317    0.498362          0.142609  \n",
       "min      1.000000    6.800000    0.000000          0.340000  \n",
       "25%      3.000000    8.170000    0.000000          0.640000  \n",
       "50%      3.500000    8.610000    1.000000          0.730000  \n",
       "75%      4.000000    9.062500    1.000000          0.830000  \n",
       "max      5.000000    9.920000    1.000000          0.970000  "
      ]
     },
     "execution_count": 5,
     "metadata": {},
     "output_type": "execute_result"
    }
   ],
   "source": [
    "chance_admission.describe()"
   ]
  },
  {
   "cell_type": "code",
   "execution_count": 6,
   "id": "543a7fc5",
   "metadata": {
    "execution": {
     "iopub.execute_input": "2023-07-05T21:07:31.691214Z",
     "iopub.status.busy": "2023-07-05T21:07:31.690567Z",
     "iopub.status.idle": "2023-07-05T21:07:31.696257Z",
     "shell.execute_reply": "2023-07-05T21:07:31.695383Z"
    },
    "papermill": {
     "duration": 0.01543,
     "end_time": "2023-07-05T21:07:31.698303",
     "exception": false,
     "start_time": "2023-07-05T21:07:31.682873",
     "status": "completed"
    },
    "tags": []
   },
   "outputs": [
    {
     "data": {
      "text/plain": [
       "Index(['Serial No', 'GRE Score', 'TOEFL Score', 'University Rating', ' SOP',\n",
       "       'LOR ', 'CGPA', 'Research', 'Chance of Admit '],\n",
       "      dtype='object')"
      ]
     },
     "execution_count": 6,
     "metadata": {},
     "output_type": "execute_result"
    }
   ],
   "source": [
    "chance_admission.columns"
   ]
  },
  {
   "cell_type": "code",
   "execution_count": 7,
   "id": "7638625a",
   "metadata": {
    "execution": {
     "iopub.execute_input": "2023-07-05T21:07:31.713541Z",
     "iopub.status.busy": "2023-07-05T21:07:31.712931Z",
     "iopub.status.idle": "2023-07-05T21:07:31.720576Z",
     "shell.execute_reply": "2023-07-05T21:07:31.719472Z"
    },
    "papermill": {
     "duration": 0.018303,
     "end_time": "2023-07-05T21:07:31.722928",
     "exception": false,
     "start_time": "2023-07-05T21:07:31.704625",
     "status": "completed"
    },
    "tags": []
   },
   "outputs": [],
   "source": [
    "#decide x and y\n",
    "y=chance_admission['Chance of Admit ']\n",
    "x=chance_admission[['Serial No', 'GRE Score', 'TOEFL Score', 'University Rating', ' SOP','LOR ', 'CGPA', 'Research']]"
   ]
  },
  {
   "cell_type": "code",
   "execution_count": 8,
   "id": "5958f627",
   "metadata": {
    "execution": {
     "iopub.execute_input": "2023-07-05T21:07:31.734555Z",
     "iopub.status.busy": "2023-07-05T21:07:31.734177Z",
     "iopub.status.idle": "2023-07-05T21:07:31.740247Z",
     "shell.execute_reply": "2023-07-05T21:07:31.739370Z"
    },
    "papermill": {
     "duration": 0.014902,
     "end_time": "2023-07-05T21:07:31.742913",
     "exception": false,
     "start_time": "2023-07-05T21:07:31.728011",
     "status": "completed"
    },
    "tags": []
   },
   "outputs": [
    {
     "data": {
      "text/plain": [
       "(400, 8)"
      ]
     },
     "execution_count": 8,
     "metadata": {},
     "output_type": "execute_result"
    }
   ],
   "source": [
    "x.shape"
   ]
  },
  {
   "cell_type": "code",
   "execution_count": 9,
   "id": "81b82ba7",
   "metadata": {
    "execution": {
     "iopub.execute_input": "2023-07-05T21:07:31.755792Z",
     "iopub.status.busy": "2023-07-05T21:07:31.755248Z",
     "iopub.status.idle": "2023-07-05T21:07:33.078642Z",
     "shell.execute_reply": "2023-07-05T21:07:33.077646Z"
    },
    "papermill": {
     "duration": 1.33228,
     "end_time": "2023-07-05T21:07:33.080976",
     "exception": false,
     "start_time": "2023-07-05T21:07:31.748696",
     "status": "completed"
    },
    "tags": []
   },
   "outputs": [],
   "source": [
    "#train test split\n",
    "from sklearn.model_selection import train_test_split \n",
    "x_train, x_test, y_train, y_test= train_test_split(x,y,train_size=0.7, random_state=2529)"
   ]
  },
  {
   "cell_type": "code",
   "execution_count": 10,
   "id": "d19c78e7",
   "metadata": {
    "execution": {
     "iopub.execute_input": "2023-07-05T21:07:33.093735Z",
     "iopub.status.busy": "2023-07-05T21:07:33.093349Z",
     "iopub.status.idle": "2023-07-05T21:07:33.099972Z",
     "shell.execute_reply": "2023-07-05T21:07:33.099133Z"
    },
    "papermill": {
     "duration": 0.015234,
     "end_time": "2023-07-05T21:07:33.102081",
     "exception": false,
     "start_time": "2023-07-05T21:07:33.086847",
     "status": "completed"
    },
    "tags": []
   },
   "outputs": [
    {
     "data": {
      "text/plain": [
       "((280, 8), (120, 8), (280,), (120,))"
      ]
     },
     "execution_count": 10,
     "metadata": {},
     "output_type": "execute_result"
    }
   ],
   "source": [
    "x_train.shape, x_test.shape, y_train.shape, y_test.shape"
   ]
  },
  {
   "cell_type": "code",
   "execution_count": 11,
   "id": "171c8768",
   "metadata": {
    "execution": {
     "iopub.execute_input": "2023-07-05T21:07:33.114225Z",
     "iopub.status.busy": "2023-07-05T21:07:33.113281Z",
     "iopub.status.idle": "2023-07-05T21:07:33.210083Z",
     "shell.execute_reply": "2023-07-05T21:07:33.209172Z"
    },
    "papermill": {
     "duration": 0.105179,
     "end_time": "2023-07-05T21:07:33.212374",
     "exception": false,
     "start_time": "2023-07-05T21:07:33.107195",
     "status": "completed"
    },
    "tags": []
   },
   "outputs": [],
   "source": [
    "# select model\n",
    "from sklearn.linear_model import LinearRegression\n",
    "model=LinearRegression()"
   ]
  },
  {
   "cell_type": "code",
   "execution_count": 12,
   "id": "d199b223",
   "metadata": {
    "execution": {
     "iopub.execute_input": "2023-07-05T21:07:33.224261Z",
     "iopub.status.busy": "2023-07-05T21:07:33.223916Z",
     "iopub.status.idle": "2023-07-05T21:07:33.256091Z",
     "shell.execute_reply": "2023-07-05T21:07:33.255473Z"
    },
    "papermill": {
     "duration": 0.03989,
     "end_time": "2023-07-05T21:07:33.257676",
     "exception": false,
     "start_time": "2023-07-05T21:07:33.217786",
     "status": "completed"
    },
    "tags": []
   },
   "outputs": [
    {
     "data": {
      "text/html": [
       "<style>#sk-container-id-1 {color: black;background-color: white;}#sk-container-id-1 pre{padding: 0;}#sk-container-id-1 div.sk-toggleable {background-color: white;}#sk-container-id-1 label.sk-toggleable__label {cursor: pointer;display: block;width: 100%;margin-bottom: 0;padding: 0.3em;box-sizing: border-box;text-align: center;}#sk-container-id-1 label.sk-toggleable__label-arrow:before {content: \"▸\";float: left;margin-right: 0.25em;color: #696969;}#sk-container-id-1 label.sk-toggleable__label-arrow:hover:before {color: black;}#sk-container-id-1 div.sk-estimator:hover label.sk-toggleable__label-arrow:before {color: black;}#sk-container-id-1 div.sk-toggleable__content {max-height: 0;max-width: 0;overflow: hidden;text-align: left;background-color: #f0f8ff;}#sk-container-id-1 div.sk-toggleable__content pre {margin: 0.2em;color: black;border-radius: 0.25em;background-color: #f0f8ff;}#sk-container-id-1 input.sk-toggleable__control:checked~div.sk-toggleable__content {max-height: 200px;max-width: 100%;overflow: auto;}#sk-container-id-1 input.sk-toggleable__control:checked~label.sk-toggleable__label-arrow:before {content: \"▾\";}#sk-container-id-1 div.sk-estimator input.sk-toggleable__control:checked~label.sk-toggleable__label {background-color: #d4ebff;}#sk-container-id-1 div.sk-label input.sk-toggleable__control:checked~label.sk-toggleable__label {background-color: #d4ebff;}#sk-container-id-1 input.sk-hidden--visually {border: 0;clip: rect(1px 1px 1px 1px);clip: rect(1px, 1px, 1px, 1px);height: 1px;margin: -1px;overflow: hidden;padding: 0;position: absolute;width: 1px;}#sk-container-id-1 div.sk-estimator {font-family: monospace;background-color: #f0f8ff;border: 1px dotted black;border-radius: 0.25em;box-sizing: border-box;margin-bottom: 0.5em;}#sk-container-id-1 div.sk-estimator:hover {background-color: #d4ebff;}#sk-container-id-1 div.sk-parallel-item::after {content: \"\";width: 100%;border-bottom: 1px solid gray;flex-grow: 1;}#sk-container-id-1 div.sk-label:hover label.sk-toggleable__label {background-color: #d4ebff;}#sk-container-id-1 div.sk-serial::before {content: \"\";position: absolute;border-left: 1px solid gray;box-sizing: border-box;top: 0;bottom: 0;left: 50%;z-index: 0;}#sk-container-id-1 div.sk-serial {display: flex;flex-direction: column;align-items: center;background-color: white;padding-right: 0.2em;padding-left: 0.2em;position: relative;}#sk-container-id-1 div.sk-item {position: relative;z-index: 1;}#sk-container-id-1 div.sk-parallel {display: flex;align-items: stretch;justify-content: center;background-color: white;position: relative;}#sk-container-id-1 div.sk-item::before, #sk-container-id-1 div.sk-parallel-item::before {content: \"\";position: absolute;border-left: 1px solid gray;box-sizing: border-box;top: 0;bottom: 0;left: 50%;z-index: -1;}#sk-container-id-1 div.sk-parallel-item {display: flex;flex-direction: column;z-index: 1;position: relative;background-color: white;}#sk-container-id-1 div.sk-parallel-item:first-child::after {align-self: flex-end;width: 50%;}#sk-container-id-1 div.sk-parallel-item:last-child::after {align-self: flex-start;width: 50%;}#sk-container-id-1 div.sk-parallel-item:only-child::after {width: 0;}#sk-container-id-1 div.sk-dashed-wrapped {border: 1px dashed gray;margin: 0 0.4em 0.5em 0.4em;box-sizing: border-box;padding-bottom: 0.4em;background-color: white;}#sk-container-id-1 div.sk-label label {font-family: monospace;font-weight: bold;display: inline-block;line-height: 1.2em;}#sk-container-id-1 div.sk-label-container {text-align: center;}#sk-container-id-1 div.sk-container {/* jupyter's `normalize.less` sets `[hidden] { display: none; }` but bootstrap.min.css set `[hidden] { display: none !important; }` so we also need the `!important` here to be able to override the default hidden behavior on the sphinx rendered scikit-learn.org. See: https://github.com/scikit-learn/scikit-learn/issues/21755 */display: inline-block !important;position: relative;}#sk-container-id-1 div.sk-text-repr-fallback {display: none;}</style><div id=\"sk-container-id-1\" class=\"sk-top-container\"><div class=\"sk-text-repr-fallback\"><pre>LinearRegression()</pre><b>In a Jupyter environment, please rerun this cell to show the HTML representation or trust the notebook. <br />On GitHub, the HTML representation is unable to render, please try loading this page with nbviewer.org.</b></div><div class=\"sk-container\" hidden><div class=\"sk-item\"><div class=\"sk-estimator sk-toggleable\"><input class=\"sk-toggleable__control sk-hidden--visually\" id=\"sk-estimator-id-1\" type=\"checkbox\" checked><label for=\"sk-estimator-id-1\" class=\"sk-toggleable__label sk-toggleable__label-arrow\">LinearRegression</label><div class=\"sk-toggleable__content\"><pre>LinearRegression()</pre></div></div></div></div></div>"
      ],
      "text/plain": [
       "LinearRegression()"
      ]
     },
     "execution_count": 12,
     "metadata": {},
     "output_type": "execute_result"
    }
   ],
   "source": [
    "# fit model\n",
    "model.fit(x_train,y_train)"
   ]
  },
  {
   "cell_type": "code",
   "execution_count": 13,
   "id": "dc0fc415",
   "metadata": {
    "execution": {
     "iopub.execute_input": "2023-07-05T21:07:33.271174Z",
     "iopub.status.busy": "2023-07-05T21:07:33.270278Z",
     "iopub.status.idle": "2023-07-05T21:07:33.275992Z",
     "shell.execute_reply": "2023-07-05T21:07:33.275071Z"
    },
    "papermill": {
     "duration": 0.014277,
     "end_time": "2023-07-05T21:07:33.277786",
     "exception": false,
     "start_time": "2023-07-05T21:07:33.263509",
     "status": "completed"
    },
    "tags": []
   },
   "outputs": [
    {
     "data": {
      "text/plain": [
       "array([ 0.00018075,  0.00217672,  0.00396487,  0.00836627, -0.00080004,\n",
       "        0.02030329,  0.09551552,  0.01979659])"
      ]
     },
     "execution_count": 13,
     "metadata": {},
     "output_type": "execute_result"
    }
   ],
   "source": [
    "model.coef_"
   ]
  },
  {
   "cell_type": "code",
   "execution_count": 14,
   "id": "53999dac",
   "metadata": {
    "execution": {
     "iopub.execute_input": "2023-07-05T21:07:33.290639Z",
     "iopub.status.busy": "2023-07-05T21:07:33.290262Z",
     "iopub.status.idle": "2023-07-05T21:07:33.295594Z",
     "shell.execute_reply": "2023-07-05T21:07:33.294551Z"
    },
    "papermill": {
     "duration": 0.013692,
     "end_time": "2023-07-05T21:07:33.297212",
     "exception": false,
     "start_time": "2023-07-05T21:07:33.283520",
     "status": "completed"
    },
    "tags": []
   },
   "outputs": [
    {
     "data": {
      "text/plain": [
       "-1.3491869284562994"
      ]
     },
     "execution_count": 14,
     "metadata": {},
     "output_type": "execute_result"
    }
   ],
   "source": [
    "model.intercept_"
   ]
  },
  {
   "cell_type": "code",
   "execution_count": 15,
   "id": "04d069be",
   "metadata": {
    "execution": {
     "iopub.execute_input": "2023-07-05T21:07:33.310036Z",
     "iopub.status.busy": "2023-07-05T21:07:33.309458Z",
     "iopub.status.idle": "2023-07-05T21:07:33.317289Z",
     "shell.execute_reply": "2023-07-05T21:07:33.316437Z"
    },
    "papermill": {
     "duration": 0.016873,
     "end_time": "2023-07-05T21:07:33.319580",
     "exception": false,
     "start_time": "2023-07-05T21:07:33.302707",
     "status": "completed"
    },
    "tags": []
   },
   "outputs": [
    {
     "data": {
      "text/plain": [
       "array([0.71638511, 0.75610311, 0.68760789, 0.68124699, 0.56927168,\n",
       "       0.91423484, 0.90562753, 0.72569757, 0.79088749, 0.59675934,\n",
       "       0.59489304, 0.80774252, 0.54572472, 0.77132503, 0.8737274 ,\n",
       "       0.66751677, 0.61934136, 0.67447953, 0.73484064, 0.84425246,\n",
       "       0.62922545, 0.86090216, 0.82814605, 0.9151533 , 0.68755296,\n",
       "       0.63544487, 0.6134806 , 0.57723203, 0.51557048, 0.61715529,\n",
       "       0.52595747, 0.76388331, 0.69695739, 0.75953801, 0.62049587,\n",
       "       0.53097396, 0.40200383, 0.87065079, 0.92286173, 0.78952969,\n",
       "       0.71932513, 0.73604218, 0.70278395, 0.90704   , 0.80062706,\n",
       "       0.81781888, 0.91769447, 0.86667679, 0.58887763, 0.48098577,\n",
       "       0.62564848, 0.61917228, 0.8041983 , 0.46620308, 0.71182598,\n",
       "       0.74243792, 0.69141228, 0.63484399, 0.82789223, 0.6680648 ,\n",
       "       0.64158042, 0.93553342, 0.66537654, 0.65115639, 0.73074156,\n",
       "       0.69630576, 0.59954454, 0.91516057, 0.57456458, 0.90601273,\n",
       "       0.5702746 , 0.92658714, 0.62468054, 0.71689836, 0.5250502 ,\n",
       "       0.86364436, 0.60792138, 0.72722255, 0.66042681, 0.82080932,\n",
       "       0.7225671 , 0.89929811, 0.67637301, 0.49554676, 0.75688317,\n",
       "       0.64865133, 0.77128243, 0.57848782, 0.79141629, 0.67201156,\n",
       "       0.68439077, 0.68509744, 0.91922614, 0.67840876, 0.65244089,\n",
       "       0.64779263, 0.77551969, 0.67516585, 0.76765527, 0.60929075,\n",
       "       0.96500346, 0.69771574, 0.97109768, 0.8244446 , 0.80824716,\n",
       "       0.86627331, 0.65875764, 0.69147515, 0.60381244, 0.59431034,\n",
       "       0.81010835, 0.69414677, 0.76932107, 0.57984938, 0.54290832,\n",
       "       0.73859636, 0.70651852, 0.62741334, 0.84271712, 0.66928116])"
      ]
     },
     "execution_count": 15,
     "metadata": {},
     "output_type": "execute_result"
    }
   ],
   "source": [
    "# predict model\n",
    "y_predict=model.predict(x_test)\n",
    "y_predict"
   ]
  },
  {
   "cell_type": "code",
   "execution_count": 16,
   "id": "b9d9646e",
   "metadata": {
    "execution": {
     "iopub.execute_input": "2023-07-05T21:07:33.333104Z",
     "iopub.status.busy": "2023-07-05T21:07:33.332475Z",
     "iopub.status.idle": "2023-07-05T21:07:33.336881Z",
     "shell.execute_reply": "2023-07-05T21:07:33.335828Z"
    },
    "papermill": {
     "duration": 0.013467,
     "end_time": "2023-07-05T21:07:33.339013",
     "exception": false,
     "start_time": "2023-07-05T21:07:33.325546",
     "status": "completed"
    },
    "tags": []
   },
   "outputs": [],
   "source": [
    "# accuracy\n",
    "from sklearn.metrics import mean_absolute_error, mean_squared_error, mean_absolute_percentage_error "
   ]
  },
  {
   "cell_type": "code",
   "execution_count": 17,
   "id": "b45aed2b",
   "metadata": {
    "execution": {
     "iopub.execute_input": "2023-07-05T21:07:33.352132Z",
     "iopub.status.busy": "2023-07-05T21:07:33.351648Z",
     "iopub.status.idle": "2023-07-05T21:07:33.357695Z",
     "shell.execute_reply": "2023-07-05T21:07:33.356880Z"
    },
    "papermill": {
     "duration": 0.014406,
     "end_time": "2023-07-05T21:07:33.359320",
     "exception": false,
     "start_time": "2023-07-05T21:07:33.344914",
     "status": "completed"
    },
    "tags": []
   },
   "outputs": [
    {
     "data": {
      "text/plain": [
       "0.043087147233558505"
      ]
     },
     "execution_count": 17,
     "metadata": {},
     "output_type": "execute_result"
    }
   ],
   "source": [
    "mean_absolute_error(y_test,y_predict)"
   ]
  },
  {
   "cell_type": "code",
   "execution_count": 18,
   "id": "e207f3ba",
   "metadata": {
    "execution": {
     "iopub.execute_input": "2023-07-05T21:07:33.372172Z",
     "iopub.status.busy": "2023-07-05T21:07:33.371669Z",
     "iopub.status.idle": "2023-07-05T21:07:33.377702Z",
     "shell.execute_reply": "2023-07-05T21:07:33.377021Z"
    },
    "papermill": {
     "duration": 0.014337,
     "end_time": "2023-07-05T21:07:33.379431",
     "exception": false,
     "start_time": "2023-07-05T21:07:33.365094",
     "status": "completed"
    },
    "tags": []
   },
   "outputs": [
    {
     "data": {
      "text/plain": [
       "0.003922607781791491"
      ]
     },
     "execution_count": 18,
     "metadata": {},
     "output_type": "execute_result"
    }
   ],
   "source": [
    "mean_squared_error(y_test,y_predict)"
   ]
  },
  {
   "cell_type": "code",
   "execution_count": 19,
   "id": "b3f14e49",
   "metadata": {
    "execution": {
     "iopub.execute_input": "2023-07-05T21:07:33.392974Z",
     "iopub.status.busy": "2023-07-05T21:07:33.392379Z",
     "iopub.status.idle": "2023-07-05T21:07:33.398193Z",
     "shell.execute_reply": "2023-07-05T21:07:33.397051Z"
    },
    "papermill": {
     "duration": 0.015131,
     "end_time": "2023-07-05T21:07:33.400452",
     "exception": false,
     "start_time": "2023-07-05T21:07:33.385321",
     "status": "completed"
    },
    "tags": []
   },
   "outputs": [
    {
     "data": {
      "text/plain": [
       "0.07400437276133896"
      ]
     },
     "execution_count": 19,
     "metadata": {},
     "output_type": "execute_result"
    }
   ],
   "source": [
    "mean_absolute_percentage_error(y_test,y_predict)"
   ]
  }
 ],
 "metadata": {
  "kernelspec": {
   "display_name": "Python 3",
   "language": "python",
   "name": "python3"
  },
  "language_info": {
   "codemirror_mode": {
    "name": "ipython",
    "version": 3
   },
   "file_extension": ".py",
   "mimetype": "text/x-python",
   "name": "python",
   "nbconvert_exporter": "python",
   "pygments_lexer": "ipython3",
   "version": "3.10.10"
  },
  "papermill": {
   "default_parameters": {},
   "duration": 12.002946,
   "end_time": "2023-07-05T21:07:34.231272",
   "environment_variables": {},
   "exception": null,
   "input_path": "__notebook__.ipynb",
   "output_path": "__notebook__.ipynb",
   "parameters": {},
   "start_time": "2023-07-05T21:07:22.228326",
   "version": "2.4.0"
  }
 },
 "nbformat": 4,
 "nbformat_minor": 5
}
