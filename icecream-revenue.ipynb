{
 "cells": [
  {
   "cell_type": "code",
   "execution_count": 1,
   "id": "061bc6e8",
   "metadata": {
    "_cell_guid": "b1076dfc-b9ad-4769-8c92-a6c4dae69d19",
    "_uuid": "8f2839f25d086af736a60e9eeb907d3b93b6e0e5",
    "execution": {
     "iopub.execute_input": "2023-07-05T21:08:16.876633Z",
     "iopub.status.busy": "2023-07-05T21:08:16.876232Z",
     "iopub.status.idle": "2023-07-05T21:08:16.886863Z",
     "shell.execute_reply": "2023-07-05T21:08:16.885977Z"
    },
    "papermill": {
     "duration": 0.022563,
     "end_time": "2023-07-05T21:08:16.889201",
     "exception": false,
     "start_time": "2023-07-05T21:08:16.866638",
     "status": "completed"
    },
    "tags": []
   },
   "outputs": [],
   "source": [
    "#import liberary\n",
    "import pandas as pd"
   ]
  },
  {
   "cell_type": "code",
   "execution_count": 2,
   "id": "933b1ece",
   "metadata": {
    "execution": {
     "iopub.execute_input": "2023-07-05T21:08:16.905664Z",
     "iopub.status.busy": "2023-07-05T21:08:16.904484Z",
     "iopub.status.idle": "2023-07-05T21:08:17.356311Z",
     "shell.execute_reply": "2023-07-05T21:08:17.355353Z"
    },
    "papermill": {
     "duration": 0.462717,
     "end_time": "2023-07-05T21:08:17.359042",
     "exception": false,
     "start_time": "2023-07-05T21:08:16.896325",
     "status": "completed"
    },
    "tags": []
   },
   "outputs": [],
   "source": [
    "#import dataset\n",
    "icecream= pd.read_csv('https://github.com/YBI-Foundation/Dataset/raw/main/Ice%20Cream.csv')"
   ]
  },
  {
   "cell_type": "code",
   "execution_count": 3,
   "id": "db2ebdc8",
   "metadata": {
    "execution": {
     "iopub.execute_input": "2023-07-05T21:08:17.374687Z",
     "iopub.status.busy": "2023-07-05T21:08:17.374301Z",
     "iopub.status.idle": "2023-07-05T21:08:17.400740Z",
     "shell.execute_reply": "2023-07-05T21:08:17.400000Z"
    },
    "papermill": {
     "duration": 0.036654,
     "end_time": "2023-07-05T21:08:17.402919",
     "exception": false,
     "start_time": "2023-07-05T21:08:17.366265",
     "status": "completed"
    },
    "tags": []
   },
   "outputs": [
    {
     "data": {
      "text/html": [
       "<div>\n",
       "<style scoped>\n",
       "    .dataframe tbody tr th:only-of-type {\n",
       "        vertical-align: middle;\n",
       "    }\n",
       "\n",
       "    .dataframe tbody tr th {\n",
       "        vertical-align: top;\n",
       "    }\n",
       "\n",
       "    .dataframe thead th {\n",
       "        text-align: right;\n",
       "    }\n",
       "</style>\n",
       "<table border=\"1\" class=\"dataframe\">\n",
       "  <thead>\n",
       "    <tr style=\"text-align: right;\">\n",
       "      <th></th>\n",
       "      <th>Temperature</th>\n",
       "      <th>Revenue</th>\n",
       "    </tr>\n",
       "  </thead>\n",
       "  <tbody>\n",
       "    <tr>\n",
       "      <th>0</th>\n",
       "      <td>24.6</td>\n",
       "      <td>535</td>\n",
       "    </tr>\n",
       "    <tr>\n",
       "      <th>1</th>\n",
       "      <td>26.1</td>\n",
       "      <td>626</td>\n",
       "    </tr>\n",
       "    <tr>\n",
       "      <th>2</th>\n",
       "      <td>27.8</td>\n",
       "      <td>661</td>\n",
       "    </tr>\n",
       "    <tr>\n",
       "      <th>3</th>\n",
       "      <td>20.6</td>\n",
       "      <td>488</td>\n",
       "    </tr>\n",
       "    <tr>\n",
       "      <th>4</th>\n",
       "      <td>11.6</td>\n",
       "      <td>317</td>\n",
       "    </tr>\n",
       "  </tbody>\n",
       "</table>\n",
       "</div>"
      ],
      "text/plain": [
       "   Temperature  Revenue\n",
       "0         24.6      535\n",
       "1         26.1      626\n",
       "2         27.8      661\n",
       "3         20.6      488\n",
       "4         11.6      317"
      ]
     },
     "execution_count": 3,
     "metadata": {},
     "output_type": "execute_result"
    }
   ],
   "source": [
    "icecream.head()"
   ]
  },
  {
   "cell_type": "code",
   "execution_count": 4,
   "id": "2bd3adb4",
   "metadata": {
    "execution": {
     "iopub.execute_input": "2023-07-05T21:08:17.419327Z",
     "iopub.status.busy": "2023-07-05T21:08:17.418665Z",
     "iopub.status.idle": "2023-07-05T21:08:17.444964Z",
     "shell.execute_reply": "2023-07-05T21:08:17.443541Z"
    },
    "papermill": {
     "duration": 0.036963,
     "end_time": "2023-07-05T21:08:17.447060",
     "exception": false,
     "start_time": "2023-07-05T21:08:17.410097",
     "status": "completed"
    },
    "tags": []
   },
   "outputs": [
    {
     "name": "stdout",
     "output_type": "stream",
     "text": [
      "<class 'pandas.core.frame.DataFrame'>\n",
      "RangeIndex: 500 entries, 0 to 499\n",
      "Data columns (total 2 columns):\n",
      " #   Column       Non-Null Count  Dtype  \n",
      "---  ------       --------------  -----  \n",
      " 0   Temperature  500 non-null    float64\n",
      " 1   Revenue      500 non-null    int64  \n",
      "dtypes: float64(1), int64(1)\n",
      "memory usage: 7.9 KB\n"
     ]
    }
   ],
   "source": [
    "icecream.info()"
   ]
  },
  {
   "cell_type": "code",
   "execution_count": 5,
   "id": "71d487b2",
   "metadata": {
    "execution": {
     "iopub.execute_input": "2023-07-05T21:08:17.463320Z",
     "iopub.status.busy": "2023-07-05T21:08:17.462935Z",
     "iopub.status.idle": "2023-07-05T21:08:17.482684Z",
     "shell.execute_reply": "2023-07-05T21:08:17.481696Z"
    },
    "papermill": {
     "duration": 0.030726,
     "end_time": "2023-07-05T21:08:17.485043",
     "exception": false,
     "start_time": "2023-07-05T21:08:17.454317",
     "status": "completed"
    },
    "tags": []
   },
   "outputs": [
    {
     "data": {
      "text/html": [
       "<div>\n",
       "<style scoped>\n",
       "    .dataframe tbody tr th:only-of-type {\n",
       "        vertical-align: middle;\n",
       "    }\n",
       "\n",
       "    .dataframe tbody tr th {\n",
       "        vertical-align: top;\n",
       "    }\n",
       "\n",
       "    .dataframe thead th {\n",
       "        text-align: right;\n",
       "    }\n",
       "</style>\n",
       "<table border=\"1\" class=\"dataframe\">\n",
       "  <thead>\n",
       "    <tr style=\"text-align: right;\">\n",
       "      <th></th>\n",
       "      <th>Temperature</th>\n",
       "      <th>Revenue</th>\n",
       "    </tr>\n",
       "  </thead>\n",
       "  <tbody>\n",
       "    <tr>\n",
       "      <th>count</th>\n",
       "      <td>500.000000</td>\n",
       "      <td>500.000000</td>\n",
       "    </tr>\n",
       "    <tr>\n",
       "      <th>mean</th>\n",
       "      <td>22.281600</td>\n",
       "      <td>522.058000</td>\n",
       "    </tr>\n",
       "    <tr>\n",
       "      <th>std</th>\n",
       "      <td>8.097597</td>\n",
       "      <td>175.410399</td>\n",
       "    </tr>\n",
       "    <tr>\n",
       "      <th>min</th>\n",
       "      <td>0.000000</td>\n",
       "      <td>10.000000</td>\n",
       "    </tr>\n",
       "    <tr>\n",
       "      <th>25%</th>\n",
       "      <td>17.175000</td>\n",
       "      <td>406.000000</td>\n",
       "    </tr>\n",
       "    <tr>\n",
       "      <th>50%</th>\n",
       "      <td>22.400000</td>\n",
       "      <td>530.000000</td>\n",
       "    </tr>\n",
       "    <tr>\n",
       "      <th>75%</th>\n",
       "      <td>27.800000</td>\n",
       "      <td>643.000000</td>\n",
       "    </tr>\n",
       "    <tr>\n",
       "      <th>max</th>\n",
       "      <td>45.000000</td>\n",
       "      <td>1000.000000</td>\n",
       "    </tr>\n",
       "  </tbody>\n",
       "</table>\n",
       "</div>"
      ],
      "text/plain": [
       "       Temperature      Revenue\n",
       "count   500.000000   500.000000\n",
       "mean     22.281600   522.058000\n",
       "std       8.097597   175.410399\n",
       "min       0.000000    10.000000\n",
       "25%      17.175000   406.000000\n",
       "50%      22.400000   530.000000\n",
       "75%      27.800000   643.000000\n",
       "max      45.000000  1000.000000"
      ]
     },
     "execution_count": 5,
     "metadata": {},
     "output_type": "execute_result"
    }
   ],
   "source": [
    "icecream.describe()"
   ]
  },
  {
   "cell_type": "code",
   "execution_count": 6,
   "id": "8dd076b2",
   "metadata": {
    "execution": {
     "iopub.execute_input": "2023-07-05T21:08:17.503613Z",
     "iopub.status.busy": "2023-07-05T21:08:17.503215Z",
     "iopub.status.idle": "2023-07-05T21:08:17.510099Z",
     "shell.execute_reply": "2023-07-05T21:08:17.509225Z"
    },
    "papermill": {
     "duration": 0.018299,
     "end_time": "2023-07-05T21:08:17.512420",
     "exception": false,
     "start_time": "2023-07-05T21:08:17.494121",
     "status": "completed"
    },
    "tags": []
   },
   "outputs": [
    {
     "data": {
      "text/plain": [
       "Index(['Temperature', 'Revenue'], dtype='object')"
      ]
     },
     "execution_count": 6,
     "metadata": {},
     "output_type": "execute_result"
    }
   ],
   "source": [
    "icecream.columns"
   ]
  },
  {
   "cell_type": "code",
   "execution_count": 7,
   "id": "5fcbe21b",
   "metadata": {
    "execution": {
     "iopub.execute_input": "2023-07-05T21:08:17.529864Z",
     "iopub.status.busy": "2023-07-05T21:08:17.529202Z",
     "iopub.status.idle": "2023-07-05T21:08:17.534308Z",
     "shell.execute_reply": "2023-07-05T21:08:17.533638Z"
    },
    "papermill": {
     "duration": 0.016171,
     "end_time": "2023-07-05T21:08:17.536402",
     "exception": false,
     "start_time": "2023-07-05T21:08:17.520231",
     "status": "completed"
    },
    "tags": []
   },
   "outputs": [],
   "source": [
    "y=icecream['Revenue']\n",
    "x=icecream[['Temperature']]"
   ]
  },
  {
   "cell_type": "code",
   "execution_count": 8,
   "id": "ea565932",
   "metadata": {
    "execution": {
     "iopub.execute_input": "2023-07-05T21:08:17.553572Z",
     "iopub.status.busy": "2023-07-05T21:08:17.553183Z",
     "iopub.status.idle": "2023-07-05T21:08:17.559628Z",
     "shell.execute_reply": "2023-07-05T21:08:17.558653Z"
    },
    "papermill": {
     "duration": 0.0176,
     "end_time": "2023-07-05T21:08:17.561706",
     "exception": false,
     "start_time": "2023-07-05T21:08:17.544106",
     "status": "completed"
    },
    "tags": []
   },
   "outputs": [
    {
     "data": {
      "text/plain": [
       "((500, 1), (500,))"
      ]
     },
     "execution_count": 8,
     "metadata": {},
     "output_type": "execute_result"
    }
   ],
   "source": [
    "x.shape, y.shape"
   ]
  },
  {
   "cell_type": "code",
   "execution_count": 9,
   "id": "e670d302",
   "metadata": {
    "execution": {
     "iopub.execute_input": "2023-07-05T21:08:17.578970Z",
     "iopub.status.busy": "2023-07-05T21:08:17.578302Z",
     "iopub.status.idle": "2023-07-05T21:08:18.906620Z",
     "shell.execute_reply": "2023-07-05T21:08:18.905667Z"
    },
    "papermill": {
     "duration": 1.33964,
     "end_time": "2023-07-05T21:08:18.909281",
     "exception": false,
     "start_time": "2023-07-05T21:08:17.569641",
     "status": "completed"
    },
    "tags": []
   },
   "outputs": [],
   "source": [
    "# train test split\n",
    "from sklearn.model_selection import train_test_split\n",
    "x_train, x_test, y_train, y_test= train_test_split(x,y)"
   ]
  },
  {
   "cell_type": "code",
   "execution_count": 10,
   "id": "6dadf3f6",
   "metadata": {
    "execution": {
     "iopub.execute_input": "2023-07-05T21:08:18.927240Z",
     "iopub.status.busy": "2023-07-05T21:08:18.926857Z",
     "iopub.status.idle": "2023-07-05T21:08:18.933940Z",
     "shell.execute_reply": "2023-07-05T21:08:18.933054Z"
    },
    "papermill": {
     "duration": 0.018689,
     "end_time": "2023-07-05T21:08:18.936246",
     "exception": false,
     "start_time": "2023-07-05T21:08:18.917557",
     "status": "completed"
    },
    "tags": []
   },
   "outputs": [
    {
     "data": {
      "text/plain": [
       "((375, 1), (125, 1), (375,), (125,))"
      ]
     },
     "execution_count": 10,
     "metadata": {},
     "output_type": "execute_result"
    }
   ],
   "source": [
    "x_train.shape, x_test.shape, y_train.shape, y_test.shape"
   ]
  },
  {
   "cell_type": "code",
   "execution_count": 11,
   "id": "a1a061f8",
   "metadata": {
    "execution": {
     "iopub.execute_input": "2023-07-05T21:08:18.954028Z",
     "iopub.status.busy": "2023-07-05T21:08:18.953662Z",
     "iopub.status.idle": "2023-07-05T21:08:19.043538Z",
     "shell.execute_reply": "2023-07-05T21:08:19.042640Z"
    },
    "papermill": {
     "duration": 0.10195,
     "end_time": "2023-07-05T21:08:19.046257",
     "exception": false,
     "start_time": "2023-07-05T21:08:18.944307",
     "status": "completed"
    },
    "tags": []
   },
   "outputs": [],
   "source": [
    "from sklearn.linear_model import LinearRegression\n",
    "model= LinearRegression()"
   ]
  },
  {
   "cell_type": "code",
   "execution_count": 12,
   "id": "fd7f1860",
   "metadata": {
    "execution": {
     "iopub.execute_input": "2023-07-05T21:08:19.064708Z",
     "iopub.status.busy": "2023-07-05T21:08:19.063826Z",
     "iopub.status.idle": "2023-07-05T21:08:19.090492Z",
     "shell.execute_reply": "2023-07-05T21:08:19.089425Z"
    },
    "papermill": {
     "duration": 0.038528,
     "end_time": "2023-07-05T21:08:19.092844",
     "exception": false,
     "start_time": "2023-07-05T21:08:19.054316",
     "status": "completed"
    },
    "tags": []
   },
   "outputs": [
    {
     "data": {
      "text/html": [
       "<style>#sk-container-id-1 {color: black;background-color: white;}#sk-container-id-1 pre{padding: 0;}#sk-container-id-1 div.sk-toggleable {background-color: white;}#sk-container-id-1 label.sk-toggleable__label {cursor: pointer;display: block;width: 100%;margin-bottom: 0;padding: 0.3em;box-sizing: border-box;text-align: center;}#sk-container-id-1 label.sk-toggleable__label-arrow:before {content: \"▸\";float: left;margin-right: 0.25em;color: #696969;}#sk-container-id-1 label.sk-toggleable__label-arrow:hover:before {color: black;}#sk-container-id-1 div.sk-estimator:hover label.sk-toggleable__label-arrow:before {color: black;}#sk-container-id-1 div.sk-toggleable__content {max-height: 0;max-width: 0;overflow: hidden;text-align: left;background-color: #f0f8ff;}#sk-container-id-1 div.sk-toggleable__content pre {margin: 0.2em;color: black;border-radius: 0.25em;background-color: #f0f8ff;}#sk-container-id-1 input.sk-toggleable__control:checked~div.sk-toggleable__content {max-height: 200px;max-width: 100%;overflow: auto;}#sk-container-id-1 input.sk-toggleable__control:checked~label.sk-toggleable__label-arrow:before {content: \"▾\";}#sk-container-id-1 div.sk-estimator input.sk-toggleable__control:checked~label.sk-toggleable__label {background-color: #d4ebff;}#sk-container-id-1 div.sk-label input.sk-toggleable__control:checked~label.sk-toggleable__label {background-color: #d4ebff;}#sk-container-id-1 input.sk-hidden--visually {border: 0;clip: rect(1px 1px 1px 1px);clip: rect(1px, 1px, 1px, 1px);height: 1px;margin: -1px;overflow: hidden;padding: 0;position: absolute;width: 1px;}#sk-container-id-1 div.sk-estimator {font-family: monospace;background-color: #f0f8ff;border: 1px dotted black;border-radius: 0.25em;box-sizing: border-box;margin-bottom: 0.5em;}#sk-container-id-1 div.sk-estimator:hover {background-color: #d4ebff;}#sk-container-id-1 div.sk-parallel-item::after {content: \"\";width: 100%;border-bottom: 1px solid gray;flex-grow: 1;}#sk-container-id-1 div.sk-label:hover label.sk-toggleable__label {background-color: #d4ebff;}#sk-container-id-1 div.sk-serial::before {content: \"\";position: absolute;border-left: 1px solid gray;box-sizing: border-box;top: 0;bottom: 0;left: 50%;z-index: 0;}#sk-container-id-1 div.sk-serial {display: flex;flex-direction: column;align-items: center;background-color: white;padding-right: 0.2em;padding-left: 0.2em;position: relative;}#sk-container-id-1 div.sk-item {position: relative;z-index: 1;}#sk-container-id-1 div.sk-parallel {display: flex;align-items: stretch;justify-content: center;background-color: white;position: relative;}#sk-container-id-1 div.sk-item::before, #sk-container-id-1 div.sk-parallel-item::before {content: \"\";position: absolute;border-left: 1px solid gray;box-sizing: border-box;top: 0;bottom: 0;left: 50%;z-index: -1;}#sk-container-id-1 div.sk-parallel-item {display: flex;flex-direction: column;z-index: 1;position: relative;background-color: white;}#sk-container-id-1 div.sk-parallel-item:first-child::after {align-self: flex-end;width: 50%;}#sk-container-id-1 div.sk-parallel-item:last-child::after {align-self: flex-start;width: 50%;}#sk-container-id-1 div.sk-parallel-item:only-child::after {width: 0;}#sk-container-id-1 div.sk-dashed-wrapped {border: 1px dashed gray;margin: 0 0.4em 0.5em 0.4em;box-sizing: border-box;padding-bottom: 0.4em;background-color: white;}#sk-container-id-1 div.sk-label label {font-family: monospace;font-weight: bold;display: inline-block;line-height: 1.2em;}#sk-container-id-1 div.sk-label-container {text-align: center;}#sk-container-id-1 div.sk-container {/* jupyter's `normalize.less` sets `[hidden] { display: none; }` but bootstrap.min.css set `[hidden] { display: none !important; }` so we also need the `!important` here to be able to override the default hidden behavior on the sphinx rendered scikit-learn.org. See: https://github.com/scikit-learn/scikit-learn/issues/21755 */display: inline-block !important;position: relative;}#sk-container-id-1 div.sk-text-repr-fallback {display: none;}</style><div id=\"sk-container-id-1\" class=\"sk-top-container\"><div class=\"sk-text-repr-fallback\"><pre>LinearRegression()</pre><b>In a Jupyter environment, please rerun this cell to show the HTML representation or trust the notebook. <br />On GitHub, the HTML representation is unable to render, please try loading this page with nbviewer.org.</b></div><div class=\"sk-container\" hidden><div class=\"sk-item\"><div class=\"sk-estimator sk-toggleable\"><input class=\"sk-toggleable__control sk-hidden--visually\" id=\"sk-estimator-id-1\" type=\"checkbox\" checked><label for=\"sk-estimator-id-1\" class=\"sk-toggleable__label sk-toggleable__label-arrow\">LinearRegression</label><div class=\"sk-toggleable__content\"><pre>LinearRegression()</pre></div></div></div></div></div>"
      ],
      "text/plain": [
       "LinearRegression()"
      ]
     },
     "execution_count": 12,
     "metadata": {},
     "output_type": "execute_result"
    }
   ],
   "source": [
    "#fit model\n",
    "model.fit(x_train,y_train)"
   ]
  },
  {
   "cell_type": "code",
   "execution_count": 13,
   "id": "0d20b4b1",
   "metadata": {
    "execution": {
     "iopub.execute_input": "2023-07-05T21:08:19.111193Z",
     "iopub.status.busy": "2023-07-05T21:08:19.110779Z",
     "iopub.status.idle": "2023-07-05T21:08:19.117152Z",
     "shell.execute_reply": "2023-07-05T21:08:19.116430Z"
    },
    "papermill": {
     "duration": 0.017812,
     "end_time": "2023-07-05T21:08:19.119217",
     "exception": false,
     "start_time": "2023-07-05T21:08:19.101405",
     "status": "completed"
    },
    "tags": []
   },
   "outputs": [
    {
     "data": {
      "text/plain": [
       "array([21.27959655])"
      ]
     },
     "execution_count": 13,
     "metadata": {},
     "output_type": "execute_result"
    }
   ],
   "source": [
    "model.coef_"
   ]
  },
  {
   "cell_type": "code",
   "execution_count": 14,
   "id": "dbbe1ccf",
   "metadata": {
    "execution": {
     "iopub.execute_input": "2023-07-05T21:08:19.138173Z",
     "iopub.status.busy": "2023-07-05T21:08:19.137501Z",
     "iopub.status.idle": "2023-07-05T21:08:19.143735Z",
     "shell.execute_reply": "2023-07-05T21:08:19.142710Z"
    },
    "papermill": {
     "duration": 0.018277,
     "end_time": "2023-07-05T21:08:19.145912",
     "exception": false,
     "start_time": "2023-07-05T21:08:19.127635",
     "status": "completed"
    },
    "tags": []
   },
   "outputs": [
    {
     "data": {
      "text/plain": [
       "47.42675960078981"
      ]
     },
     "execution_count": 14,
     "metadata": {},
     "output_type": "execute_result"
    }
   ],
   "source": [
    "model.intercept_"
   ]
  },
  {
   "cell_type": "code",
   "execution_count": 15,
   "id": "afe18276",
   "metadata": {
    "execution": {
     "iopub.execute_input": "2023-07-05T21:08:19.165300Z",
     "iopub.status.busy": "2023-07-05T21:08:19.164894Z",
     "iopub.status.idle": "2023-07-05T21:08:19.171473Z",
     "shell.execute_reply": "2023-07-05T21:08:19.170435Z"
    },
    "papermill": {
     "duration": 0.019042,
     "end_time": "2023-07-05T21:08:19.173603",
     "exception": false,
     "start_time": "2023-07-05T21:08:19.154561",
     "status": "completed"
    },
    "tags": []
   },
   "outputs": [],
   "source": [
    "#predict model\n",
    "y_predict=model.predict(x_test)"
   ]
  },
  {
   "cell_type": "code",
   "execution_count": 16,
   "id": "42453ee0",
   "metadata": {
    "execution": {
     "iopub.execute_input": "2023-07-05T21:08:19.193472Z",
     "iopub.status.busy": "2023-07-05T21:08:19.192737Z",
     "iopub.status.idle": "2023-07-05T21:08:19.200925Z",
     "shell.execute_reply": "2023-07-05T21:08:19.199846Z"
    },
    "papermill": {
     "duration": 0.020368,
     "end_time": "2023-07-05T21:08:19.203152",
     "exception": false,
     "start_time": "2023-07-05T21:08:19.182784",
     "status": "completed"
    },
    "tags": []
   },
   "outputs": [
    {
     "data": {
      "text/plain": [
       "array([294.27007958, 564.52095576, 596.44035058, 317.67763578,\n",
       "       292.14211992, 255.96680579, 570.90483472, 587.92851196,\n",
       "       511.32196438, 447.48317473, 498.55420645, 870.94714607,\n",
       "       683.68669643, 451.73909404, 524.08972231, 509.19400473,\n",
       "       653.89526126, 443.22725542, 534.72952059, 424.07561853,\n",
       "       183.61617752, 598.56831024, 230.43128993, 558.13707679,\n",
       "       534.72952059, 373.00458681, 530.47360128, 870.94714607,\n",
       "       421.94765887, 570.90483472, 664.53505954, 313.42171647,\n",
       "       413.43582025, 430.45949749, 621.97586644, 794.34059849,\n",
       "       319.80559544, 494.29828714, 451.73909404, 547.49727852,\n",
       "       596.44035058, 570.90483472, 590.05647162, 609.20810851,\n",
       "       400.66806232, 311.29375682, 673.04689816, 613.46402782,\n",
       "       213.40761269, 451.73909404, 479.40256956, 604.9521892 ,\n",
       "       415.56377991, 536.85748024, 577.28871369, 668.79097885,\n",
       "       151.69678269, 494.29828714, 324.06151475, 268.73456372,\n",
       "       604.9521892 , 192.12801614, 492.17032749, 590.05647162,\n",
       "       521.96176266, 473.01869059, 643.25546299, 600.69626989,\n",
       "       936.91389537, 890.09878297, 453.8670537 , 507.06604507,\n",
       "       285.75824096, 547.49727852, 447.48317473, 521.96176266,\n",
       "       460.25093266, 653.89526126, 670.9189385 , 692.19853505,\n",
       "       234.68720924, 662.40709988, 162.33658097, 396.41214301,\n",
       "       696.45445436, 385.77234474, 538.9854399 , 558.13707679,\n",
       "       717.73405091, 713.4781316 , 524.08972231, 304.90987785,\n",
       "       662.40709988, 817.7481547 , 387.90030439, 724.11792988,\n",
       "       162.33658097, 451.73909404, 351.72499026, 677.30281747,\n",
       "       590.05647162, 468.76277128, 681.55873678, 462.37889232,\n",
       "       543.24135921, 247.45496717, 483.65848887, 370.87662715,\n",
       "       387.90030439, 638.99954368, 562.3929961 , 413.43582025,\n",
       "       309.16579716, 836.89979159, 547.49727852, 756.0373247 ,\n",
       "       600.69626989, 392.1562237 , 396.41214301, 379.38846577,\n",
       "       398.54010267, 583.67259265, 364.49274819, 404.92398163,\n",
       "       451.73909404])"
      ]
     },
     "execution_count": 16,
     "metadata": {},
     "output_type": "execute_result"
    }
   ],
   "source": [
    "y_predict"
   ]
  },
  {
   "cell_type": "code",
   "execution_count": 17,
   "id": "0ba3f7c8",
   "metadata": {
    "execution": {
     "iopub.execute_input": "2023-07-05T21:08:19.222906Z",
     "iopub.status.busy": "2023-07-05T21:08:19.222462Z",
     "iopub.status.idle": "2023-07-05T21:08:19.227509Z",
     "shell.execute_reply": "2023-07-05T21:08:19.226369Z"
    },
    "papermill": {
     "duration": 0.017574,
     "end_time": "2023-07-05T21:08:19.229661",
     "exception": false,
     "start_time": "2023-07-05T21:08:19.212087",
     "status": "completed"
    },
    "tags": []
   },
   "outputs": [],
   "source": [
    "#accuracy\n",
    "from sklearn.metrics import mean_absolute_error, mean_absolute_percentage_error, mean_squared_error"
   ]
  },
  {
   "cell_type": "code",
   "execution_count": 18,
   "id": "96306add",
   "metadata": {
    "execution": {
     "iopub.execute_input": "2023-07-05T21:08:19.249206Z",
     "iopub.status.busy": "2023-07-05T21:08:19.248793Z",
     "iopub.status.idle": "2023-07-05T21:08:19.257057Z",
     "shell.execute_reply": "2023-07-05T21:08:19.256208Z"
    },
    "papermill": {
     "duration": 0.020679,
     "end_time": "2023-07-05T21:08:19.259282",
     "exception": false,
     "start_time": "2023-07-05T21:08:19.238603",
     "status": "completed"
    },
    "tags": []
   },
   "outputs": [
    {
     "data": {
      "text/plain": [
       "21.10424139385958"
      ]
     },
     "execution_count": 18,
     "metadata": {},
     "output_type": "execute_result"
    }
   ],
   "source": [
    "mean_absolute_error(y_test, y_predict)"
   ]
  },
  {
   "cell_type": "code",
   "execution_count": 19,
   "id": "eacdcb55",
   "metadata": {
    "execution": {
     "iopub.execute_input": "2023-07-05T21:08:19.279419Z",
     "iopub.status.busy": "2023-07-05T21:08:19.278989Z",
     "iopub.status.idle": "2023-07-05T21:08:19.286600Z",
     "shell.execute_reply": "2023-07-05T21:08:19.285577Z"
    },
    "papermill": {
     "duration": 0.020444,
     "end_time": "2023-07-05T21:08:19.288966",
     "exception": false,
     "start_time": "2023-07-05T21:08:19.268522",
     "status": "completed"
    },
    "tags": []
   },
   "outputs": [
    {
     "data": {
      "text/plain": [
       "0.04921800918195235"
      ]
     },
     "execution_count": 19,
     "metadata": {},
     "output_type": "execute_result"
    }
   ],
   "source": [
    "mean_absolute_percentage_error(y_test, y_predict)"
   ]
  },
  {
   "cell_type": "code",
   "execution_count": 20,
   "id": "49948600",
   "metadata": {
    "execution": {
     "iopub.execute_input": "2023-07-05T21:08:19.309411Z",
     "iopub.status.busy": "2023-07-05T21:08:19.308653Z",
     "iopub.status.idle": "2023-07-05T21:08:19.316182Z",
     "shell.execute_reply": "2023-07-05T21:08:19.315125Z"
    },
    "papermill": {
     "duration": 0.02033,
     "end_time": "2023-07-05T21:08:19.318457",
     "exception": false,
     "start_time": "2023-07-05T21:08:19.298127",
     "status": "completed"
    },
    "tags": []
   },
   "outputs": [
    {
     "data": {
      "text/plain": [
       "713.0760789702725"
      ]
     },
     "execution_count": 20,
     "metadata": {},
     "output_type": "execute_result"
    }
   ],
   "source": [
    "mean_squared_error(y_test, y_predict)"
   ]
  },
  {
   "cell_type": "markdown",
   "id": "26ad2e6c",
   "metadata": {
    "papermill": {
     "duration": 0.008965,
     "end_time": "2023-07-05T21:08:19.336650",
     "exception": false,
     "start_time": "2023-07-05T21:08:19.327685",
     "status": "completed"
    },
    "tags": []
   },
   "source": []
  }
 ],
 "metadata": {
  "kernelspec": {
   "display_name": "Python 3",
   "language": "python",
   "name": "python3"
  },
  "language_info": {
   "codemirror_mode": {
    "name": "ipython",
    "version": 3
   },
   "file_extension": ".py",
   "mimetype": "text/x-python",
   "name": "python",
   "nbconvert_exporter": "python",
   "pygments_lexer": "ipython3",
   "version": "3.10.10"
  },
  "papermill": {
   "default_parameters": {},
   "duration": 15.087114,
   "end_time": "2023-07-05T21:08:20.367328",
   "environment_variables": {},
   "exception": null,
   "input_path": "__notebook__.ipynb",
   "output_path": "__notebook__.ipynb",
   "parameters": {},
   "start_time": "2023-07-05T21:08:05.280214",
   "version": "2.4.0"
  }
 },
 "nbformat": 4,
 "nbformat_minor": 5
}
